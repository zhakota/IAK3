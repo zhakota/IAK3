{
 "cells": [
  {
   "cell_type": "markdown",
   "id": "dab6d8b2-1ee6-45f9-85b4-0f7a13471e09",
   "metadata": {},
   "source": [
    "# Import"
   ]
  },
  {
   "cell_type": "code",
   "execution_count": 3,
   "id": "44197a22-1fb7-477b-9524-9d6600b74312",
   "metadata": {
    "execution": {
     "iopub.execute_input": "2024-02-10T08:34:28.335877Z",
     "iopub.status.busy": "2024-02-10T08:34:28.335154Z",
     "iopub.status.idle": "2024-02-10T08:34:30.840041Z",
     "shell.execute_reply": "2024-02-10T08:34:30.838894Z",
     "shell.execute_reply.started": "2024-02-10T08:34:28.335826Z"
    }
   },
   "outputs": [],
   "source": [
    "import pandas as pd\n",
    "import numpy as np\n",
    "import pickle\n",
    "import os\n",
    "from pathlib import Path\n",
    "from tqdm import tqdm\n",
    "import seaborn as sns\n",
    "import matplotlib.pyplot as plt\n",
    "import warnings\n",
    "\n",
    "from bioreactor.plotting import *\n",
    "from bioreactor.utils import *\n",
    "from bioreactor.ssgsea import *\n",
    "from bioreactor.gsea import *\n",
    "from bioreactor.annotation import *\n",
    "from bioreactor.survival import *\n",
    "\n",
    "warnings.filterwarnings('ignore')\n",
    "%config InlineBackend.figure_format = 'png'\n",
    "plt.rcParams['pdf.fonttype'] = 'truetype'\n",
    "plt.rcParams['svg.fonttype'] = 'none'\n",
    "plt.rcParams['figure.dpi'] = 120\n",
    "sns.set_style('ticks')\n",
    "\n",
    "\n",
    "%load_ext autoreload\n",
    "%autoreload 2\n",
    "%matplotlib inline\n",
    "%config IPCompleter.use_jedi = False"
   ]
  },
  {
   "cell_type": "markdown",
   "id": "bb8ee776-fc83-40af-b477-f9da4259a9d9",
   "metadata": {},
   "source": [
    "# Data"
   ]
  },
  {
   "cell_type": "code",
   "execution_count": 4,
   "id": "abe65177-dd73-405a-ba11-44e4e8dd042a",
   "metadata": {
    "editable": true,
    "execution": {
     "iopub.execute_input": "2024-02-10T08:34:30.841697Z",
     "iopub.status.busy": "2024-02-10T08:34:30.841276Z",
     "iopub.status.idle": "2024-02-10T08:34:31.493972Z",
     "shell.execute_reply": "2024-02-10T08:34:31.493123Z",
     "shell.execute_reply.started": "2024-02-10T08:34:30.841679Z"
    },
    "slideshow": {
     "slide_type": ""
    },
    "tags": []
   },
   "outputs": [],
   "source": [
    "df_raw = read_dataset('data/raw/Epic_Supra_V_1_mod_2.csv')\n",
    "df_dates  = pd.read_excel('data/raw/Epic_Supra_dates_v2.xlsx', index_col=0)"
   ]
  },
  {
   "cell_type": "code",
   "execution_count": 5,
   "id": "86cc5aec-3f28-49e8-a407-bdc087aec60a",
   "metadata": {
    "execution": {
     "iopub.execute_input": "2024-02-10T08:34:31.494955Z",
     "iopub.status.busy": "2024-02-10T08:34:31.494777Z",
     "iopub.status.idle": "2024-02-10T08:34:31.514907Z",
     "shell.execute_reply": "2024-02-10T08:34:31.514106Z",
     "shell.execute_reply.started": "2024-02-10T08:34:31.494940Z"
    }
   },
   "outputs": [],
   "source": [
    "renamer = read_dataset('data/raw/Column_Renamer.tsv')"
   ]
  },
  {
   "cell_type": "code",
   "execution_count": 6,
   "id": "f813c556-3784-455d-a0fb-958ad456d250",
   "metadata": {
    "execution": {
     "iopub.execute_input": "2024-02-10T08:34:31.687284Z",
     "iopub.status.busy": "2024-02-10T08:34:31.686731Z",
     "iopub.status.idle": "2024-02-10T08:34:31.728320Z",
     "shell.execute_reply": "2024-02-10T08:34:31.727530Z",
     "shell.execute_reply.started": "2024-02-10T08:34:31.687248Z"
    }
   },
   "outputs": [],
   "source": [
    "df = {}\n",
    "for col in df_dates:\n",
    "    df[col] = df_dates[col]\n",
    "for col in df_raw:\n",
    "    if col not in df.keys():\n",
    "        df[col] = df_raw[col].reindex(df_dates.index)\n",
    "df = pd.DataFrame(df)"
   ]
  },
  {
   "cell_type": "code",
   "execution_count": 7,
   "id": "5813295a-e727-4ceb-b3a4-560a9d393fc9",
   "metadata": {
    "execution": {
     "iopub.execute_input": "2024-02-10T08:34:33.038142Z",
     "iopub.status.busy": "2024-02-10T08:34:33.037539Z",
     "iopub.status.idle": "2024-02-10T08:34:33.089597Z",
     "shell.execute_reply": "2024-02-10T08:34:33.088836Z",
     "shell.execute_reply.started": "2024-02-10T08:34:33.038093Z"
    }
   },
   "outputs": [
    {
     "data": {
      "text/html": [
       "<div>\n",
       "<style scoped>\n",
       "    .dataframe tbody tr th:only-of-type {\n",
       "        vertical-align: middle;\n",
       "    }\n",
       "\n",
       "    .dataframe tbody tr th {\n",
       "        vertical-align: top;\n",
       "    }\n",
       "\n",
       "    .dataframe thead th {\n",
       "        text-align: right;\n",
       "    }\n",
       "</style>\n",
       "<table border=\"1\" class=\"dataframe\">\n",
       "  <thead>\n",
       "    <tr style=\"text-align: right;\">\n",
       "      <th></th>\n",
       "      <th>Birth_Date</th>\n",
       "      <th>OS_Date</th>\n",
       "      <th>OS_Date_unknown</th>\n",
       "      <th>OS_Date_only_year</th>\n",
       "      <th>Last_FU</th>\n",
       "      <th>Last_FU_only_year</th>\n",
       "      <th>Sx_Date</th>\n",
       "      <th>REOP_DAT</th>\n",
       "      <th>FUEcho_Date</th>\n",
       "      <th>Age</th>\n",
       "      <th>...</th>\n",
       "      <th>FUEcho_LVOT</th>\n",
       "      <th>FUEcho_PAP</th>\n",
       "      <th>FUEcho_IVSd</th>\n",
       "      <th>FUEcho_MPG</th>\n",
       "      <th>FUEcho_Vmax</th>\n",
       "      <th>FUEcho_AOF</th>\n",
       "      <th>FUEcho_Signs_of_SVD</th>\n",
       "      <th>FUEcho_SVD_VARC3</th>\n",
       "      <th>FUEcho_AI</th>\n",
       "      <th>FUEcho_PHT</th>\n",
       "    </tr>\n",
       "    <tr>\n",
       "      <th>Item</th>\n",
       "      <th></th>\n",
       "      <th></th>\n",
       "      <th></th>\n",
       "      <th></th>\n",
       "      <th></th>\n",
       "      <th></th>\n",
       "      <th></th>\n",
       "      <th></th>\n",
       "      <th></th>\n",
       "      <th></th>\n",
       "      <th></th>\n",
       "      <th></th>\n",
       "      <th></th>\n",
       "      <th></th>\n",
       "      <th></th>\n",
       "      <th></th>\n",
       "      <th></th>\n",
       "      <th></th>\n",
       "      <th></th>\n",
       "      <th></th>\n",
       "      <th></th>\n",
       "    </tr>\n",
       "  </thead>\n",
       "  <tbody>\n",
       "    <tr>\n",
       "      <th>10</th>\n",
       "      <td>1959-01-13</td>\n",
       "      <td>NaT</td>\n",
       "      <td>NaN</td>\n",
       "      <td>NaN</td>\n",
       "      <td>2020-12-03 08:32:17</td>\n",
       "      <td>NaN</td>\n",
       "      <td>2016-05-02</td>\n",
       "      <td>NaT</td>\n",
       "      <td>2020-12-03</td>\n",
       "      <td>57</td>\n",
       "      <td>...</td>\n",
       "      <td>2.4</td>\n",
       "      <td>NaN</td>\n",
       "      <td>1.20</td>\n",
       "      <td>7.0</td>\n",
       "      <td>2.00</td>\n",
       "      <td>1.86</td>\n",
       "      <td>0.0</td>\n",
       "      <td>0.00</td>\n",
       "      <td>0.0</td>\n",
       "      <td>NaN</td>\n",
       "    </tr>\n",
       "    <tr>\n",
       "      <th>263</th>\n",
       "      <td>1938-08-15</td>\n",
       "      <td>NaT</td>\n",
       "      <td>NaN</td>\n",
       "      <td>NaN</td>\n",
       "      <td>NaT</td>\n",
       "      <td>NaN</td>\n",
       "      <td>2011-02-03</td>\n",
       "      <td>NaT</td>\n",
       "      <td>NaT</td>\n",
       "      <td>72</td>\n",
       "      <td>...</td>\n",
       "      <td>NaN</td>\n",
       "      <td>NaN</td>\n",
       "      <td>NaN</td>\n",
       "      <td>NaN</td>\n",
       "      <td>NaN</td>\n",
       "      <td>NaN</td>\n",
       "      <td>NaN</td>\n",
       "      <td>NaN</td>\n",
       "      <td>NaN</td>\n",
       "      <td>NaN</td>\n",
       "    </tr>\n",
       "    <tr>\n",
       "      <th>265</th>\n",
       "      <td>1940-03-05</td>\n",
       "      <td>2011-11-13</td>\n",
       "      <td>NaN</td>\n",
       "      <td>NaN</td>\n",
       "      <td>2011-11-01 00:00:00</td>\n",
       "      <td>NaN</td>\n",
       "      <td>2011-02-08</td>\n",
       "      <td>2011-02-10</td>\n",
       "      <td>2011-11-01</td>\n",
       "      <td>70</td>\n",
       "      <td>...</td>\n",
       "      <td>NaN</td>\n",
       "      <td>NaN</td>\n",
       "      <td>NaN</td>\n",
       "      <td>NaN</td>\n",
       "      <td>NaN</td>\n",
       "      <td>NaN</td>\n",
       "      <td>0.0</td>\n",
       "      <td>NaN</td>\n",
       "      <td>0.0</td>\n",
       "      <td>NaN</td>\n",
       "    </tr>\n",
       "    <tr>\n",
       "      <th>267</th>\n",
       "      <td>1935-05-24</td>\n",
       "      <td>NaT</td>\n",
       "      <td>NaN</td>\n",
       "      <td>NaN</td>\n",
       "      <td>2011-11-01 00:00:00</td>\n",
       "      <td>NaN</td>\n",
       "      <td>2011-02-10</td>\n",
       "      <td>NaT</td>\n",
       "      <td>2020-08-14</td>\n",
       "      <td>75</td>\n",
       "      <td>...</td>\n",
       "      <td>NaN</td>\n",
       "      <td>50.0</td>\n",
       "      <td>1.30</td>\n",
       "      <td>NaN</td>\n",
       "      <td>2.46</td>\n",
       "      <td>NaN</td>\n",
       "      <td>0.0</td>\n",
       "      <td>NaN</td>\n",
       "      <td>1.0</td>\n",
       "      <td>1.0</td>\n",
       "    </tr>\n",
       "    <tr>\n",
       "      <th>268</th>\n",
       "      <td>1928-05-18</td>\n",
       "      <td>NaT</td>\n",
       "      <td>NaN</td>\n",
       "      <td>NaN</td>\n",
       "      <td>2021-07-30 00:00:00</td>\n",
       "      <td>NaN</td>\n",
       "      <td>2011-02-14</td>\n",
       "      <td>2011-02-23</td>\n",
       "      <td>2021-07-01</td>\n",
       "      <td>82</td>\n",
       "      <td>...</td>\n",
       "      <td>NaN</td>\n",
       "      <td>NaN</td>\n",
       "      <td>NaN</td>\n",
       "      <td>NaN</td>\n",
       "      <td>NaN</td>\n",
       "      <td>NaN</td>\n",
       "      <td>NaN</td>\n",
       "      <td>NaN</td>\n",
       "      <td>1.0</td>\n",
       "      <td>NaN</td>\n",
       "    </tr>\n",
       "    <tr>\n",
       "      <th>...</th>\n",
       "      <td>...</td>\n",
       "      <td>...</td>\n",
       "      <td>...</td>\n",
       "      <td>...</td>\n",
       "      <td>...</td>\n",
       "      <td>...</td>\n",
       "      <td>...</td>\n",
       "      <td>...</td>\n",
       "      <td>...</td>\n",
       "      <td>...</td>\n",
       "      <td>...</td>\n",
       "      <td>...</td>\n",
       "      <td>...</td>\n",
       "      <td>...</td>\n",
       "      <td>...</td>\n",
       "      <td>...</td>\n",
       "      <td>...</td>\n",
       "      <td>...</td>\n",
       "      <td>...</td>\n",
       "      <td>...</td>\n",
       "      <td>...</td>\n",
       "    </tr>\n",
       "    <tr>\n",
       "      <th>2077</th>\n",
       "      <td>1963-05-23</td>\n",
       "      <td>2021-08-27</td>\n",
       "      <td>NaN</td>\n",
       "      <td>NaN</td>\n",
       "      <td>2021-08-27 00:00:00</td>\n",
       "      <td>NaN</td>\n",
       "      <td>2021-08-26</td>\n",
       "      <td>NaT</td>\n",
       "      <td>NaT</td>\n",
       "      <td>58</td>\n",
       "      <td>...</td>\n",
       "      <td>NaN</td>\n",
       "      <td>NaN</td>\n",
       "      <td>NaN</td>\n",
       "      <td>NaN</td>\n",
       "      <td>NaN</td>\n",
       "      <td>NaN</td>\n",
       "      <td>NaN</td>\n",
       "      <td>NaN</td>\n",
       "      <td>NaN</td>\n",
       "      <td>NaN</td>\n",
       "    </tr>\n",
       "    <tr>\n",
       "      <th>2078</th>\n",
       "      <td>1945-03-07</td>\n",
       "      <td>NaT</td>\n",
       "      <td>NaN</td>\n",
       "      <td>NaN</td>\n",
       "      <td>NaT</td>\n",
       "      <td>NaN</td>\n",
       "      <td>2021-11-09</td>\n",
       "      <td>NaT</td>\n",
       "      <td>NaT</td>\n",
       "      <td>76</td>\n",
       "      <td>...</td>\n",
       "      <td>NaN</td>\n",
       "      <td>NaN</td>\n",
       "      <td>NaN</td>\n",
       "      <td>NaN</td>\n",
       "      <td>NaN</td>\n",
       "      <td>NaN</td>\n",
       "      <td>NaN</td>\n",
       "      <td>NaN</td>\n",
       "      <td>NaN</td>\n",
       "      <td>NaN</td>\n",
       "    </tr>\n",
       "    <tr>\n",
       "      <th>2079</th>\n",
       "      <td>1955-10-12</td>\n",
       "      <td>NaT</td>\n",
       "      <td>NaN</td>\n",
       "      <td>NaN</td>\n",
       "      <td>NaT</td>\n",
       "      <td>NaN</td>\n",
       "      <td>2021-11-10</td>\n",
       "      <td>NaT</td>\n",
       "      <td>NaT</td>\n",
       "      <td>66</td>\n",
       "      <td>...</td>\n",
       "      <td>NaN</td>\n",
       "      <td>NaN</td>\n",
       "      <td>NaN</td>\n",
       "      <td>NaN</td>\n",
       "      <td>NaN</td>\n",
       "      <td>NaN</td>\n",
       "      <td>NaN</td>\n",
       "      <td>NaN</td>\n",
       "      <td>NaN</td>\n",
       "      <td>NaN</td>\n",
       "    </tr>\n",
       "    <tr>\n",
       "      <th>2080</th>\n",
       "      <td>1953-11-10</td>\n",
       "      <td>NaT</td>\n",
       "      <td>NaN</td>\n",
       "      <td>NaN</td>\n",
       "      <td>NaT</td>\n",
       "      <td>NaN</td>\n",
       "      <td>2021-12-16</td>\n",
       "      <td>NaT</td>\n",
       "      <td>NaT</td>\n",
       "      <td>68</td>\n",
       "      <td>...</td>\n",
       "      <td>NaN</td>\n",
       "      <td>NaN</td>\n",
       "      <td>NaN</td>\n",
       "      <td>NaN</td>\n",
       "      <td>NaN</td>\n",
       "      <td>NaN</td>\n",
       "      <td>NaN</td>\n",
       "      <td>NaN</td>\n",
       "      <td>NaN</td>\n",
       "      <td>NaN</td>\n",
       "    </tr>\n",
       "    <tr>\n",
       "      <th>2081</th>\n",
       "      <td>1954-07-06</td>\n",
       "      <td>NaT</td>\n",
       "      <td>NaN</td>\n",
       "      <td>NaN</td>\n",
       "      <td>NaT</td>\n",
       "      <td>NaN</td>\n",
       "      <td>2021-12-17</td>\n",
       "      <td>NaT</td>\n",
       "      <td>NaT</td>\n",
       "      <td>67</td>\n",
       "      <td>...</td>\n",
       "      <td>NaN</td>\n",
       "      <td>NaN</td>\n",
       "      <td>NaN</td>\n",
       "      <td>NaN</td>\n",
       "      <td>NaN</td>\n",
       "      <td>NaN</td>\n",
       "      <td>NaN</td>\n",
       "      <td>NaN</td>\n",
       "      <td>NaN</td>\n",
       "      <td>NaN</td>\n",
       "    </tr>\n",
       "  </tbody>\n",
       "</table>\n",
       "<p>1796 rows × 113 columns</p>\n",
       "</div>"
      ],
      "text/plain": [
       "     Birth_Date    OS_Date  OS_Date_unknown  OS_Date_only_year  \\\n",
       "Item                                                             \n",
       "10   1959-01-13        NaT              NaN                NaN   \n",
       "263  1938-08-15        NaT              NaN                NaN   \n",
       "265  1940-03-05 2011-11-13              NaN                NaN   \n",
       "267  1935-05-24        NaT              NaN                NaN   \n",
       "268  1928-05-18        NaT              NaN                NaN   \n",
       "...         ...        ...              ...                ...   \n",
       "2077 1963-05-23 2021-08-27              NaN                NaN   \n",
       "2078 1945-03-07        NaT              NaN                NaN   \n",
       "2079 1955-10-12        NaT              NaN                NaN   \n",
       "2080 1953-11-10        NaT              NaN                NaN   \n",
       "2081 1954-07-06        NaT              NaN                NaN   \n",
       "\n",
       "                 Last_FU  Last_FU_only_year    Sx_Date   REOP_DAT FUEcho_Date  \\\n",
       "Item                                                                            \n",
       "10   2020-12-03 08:32:17                NaN 2016-05-02        NaT  2020-12-03   \n",
       "263                  NaT                NaN 2011-02-03        NaT         NaT   \n",
       "265  2011-11-01 00:00:00                NaN 2011-02-08 2011-02-10  2011-11-01   \n",
       "267  2011-11-01 00:00:00                NaN 2011-02-10        NaT  2020-08-14   \n",
       "268  2021-07-30 00:00:00                NaN 2011-02-14 2011-02-23  2021-07-01   \n",
       "...                  ...                ...        ...        ...         ...   \n",
       "2077 2021-08-27 00:00:00                NaN 2021-08-26        NaT         NaT   \n",
       "2078                 NaT                NaN 2021-11-09        NaT         NaT   \n",
       "2079                 NaT                NaN 2021-11-10        NaT         NaT   \n",
       "2080                 NaT                NaN 2021-12-16        NaT         NaT   \n",
       "2081                 NaT                NaN 2021-12-17        NaT         NaT   \n",
       "\n",
       "      Age  ...  FUEcho_LVOT  FUEcho_PAP FUEcho_IVSd  FUEcho_MPG  FUEcho_Vmax  \\\n",
       "Item       ...                                                                 \n",
       "10     57  ...          2.4         NaN        1.20         7.0         2.00   \n",
       "263    72  ...          NaN         NaN         NaN         NaN          NaN   \n",
       "265    70  ...          NaN         NaN         NaN         NaN          NaN   \n",
       "267    75  ...          NaN        50.0        1.30         NaN         2.46   \n",
       "268    82  ...          NaN         NaN         NaN         NaN          NaN   \n",
       "...   ...  ...          ...         ...         ...         ...          ...   \n",
       "2077   58  ...          NaN         NaN         NaN         NaN          NaN   \n",
       "2078   76  ...          NaN         NaN         NaN         NaN          NaN   \n",
       "2079   66  ...          NaN         NaN         NaN         NaN          NaN   \n",
       "2080   68  ...          NaN         NaN         NaN         NaN          NaN   \n",
       "2081   67  ...          NaN         NaN         NaN         NaN          NaN   \n",
       "\n",
       "      FUEcho_AOF  FUEcho_Signs_of_SVD  FUEcho_SVD_VARC3  FUEcho_AI  FUEcho_PHT  \n",
       "Item                                                                            \n",
       "10          1.86                  0.0              0.00        0.0         NaN  \n",
       "263          NaN                  NaN               NaN        NaN         NaN  \n",
       "265          NaN                  0.0               NaN        0.0         NaN  \n",
       "267          NaN                  0.0               NaN        1.0         1.0  \n",
       "268          NaN                  NaN               NaN        1.0         NaN  \n",
       "...          ...                  ...               ...        ...         ...  \n",
       "2077         NaN                  NaN               NaN        NaN         NaN  \n",
       "2078         NaN                  NaN               NaN        NaN         NaN  \n",
       "2079         NaN                  NaN               NaN        NaN         NaN  \n",
       "2080         NaN                  NaN               NaN        NaN         NaN  \n",
       "2081         NaN                  NaN               NaN        NaN         NaN  \n",
       "\n",
       "[1796 rows x 113 columns]"
      ]
     },
     "execution_count": 7,
     "metadata": {},
     "output_type": "execute_result"
    }
   ],
   "source": [
    "df.columns = df.columns.map(lambda x: renamer.loc[x,'English_Column_Name_Short'])\n",
    "df"
   ]
  },
  {
   "cell_type": "code",
   "execution_count": 8,
   "id": "3a8ac8da-c8a9-4644-85da-a9994805cea2",
   "metadata": {
    "execution": {
     "iopub.execute_input": "2024-02-10T08:34:34.212080Z",
     "iopub.status.busy": "2024-02-10T08:34:34.211297Z",
     "iopub.status.idle": "2024-02-10T08:34:34.266881Z",
     "shell.execute_reply": "2024-02-10T08:34:34.265892Z",
     "shell.execute_reply.started": "2024-02-10T08:34:34.212026Z"
    },
    "scrolled": true
   },
   "outputs": [
    {
     "data": {
      "text/plain": [
       "['REOP_DAT',\n",
       " 'REOP?',\n",
       " 'REOP_RELA',\n",
       " 'REOP_THGNR',\n",
       " 'REOP_EINGR',\n",
       " 'REOP_DAT2',\n",
       " 'REOP_THG2',\n",
       " 'REOP_EING2',\n",
       " 'REOP_DAT3',\n",
       " 'REOP_THG3',\n",
       " 'REOP_EING3',\n",
       " 'REOP_DAT4',\n",
       " 'REOP_THG4',\n",
       " 'REOP_EING4',\n",
       " 'REOP_DAT5',\n",
       " 'REOP_THG5',\n",
       " 'REOP_EING5']"
      ]
     },
     "execution_count": 8,
     "metadata": {},
     "output_type": "execute_result"
    }
   ],
   "source": [
    "reop_cols = [i for i in df.columns if 'REOP' in i]\n",
    "reop_cols"
   ]
  },
  {
   "cell_type": "code",
   "execution_count": 13,
   "id": "03dd3311-fd69-40c6-8e6c-951284c7da27",
   "metadata": {
    "execution": {
     "iopub.execute_input": "2024-02-10T08:34:51.475269Z",
     "iopub.status.busy": "2024-02-10T08:34:51.474529Z",
     "iopub.status.idle": "2024-02-10T08:34:51.503763Z",
     "shell.execute_reply": "2024-02-10T08:34:51.502937Z",
     "shell.execute_reply.started": "2024-02-10T08:34:51.475205Z"
    }
   },
   "outputs": [],
   "source": [
    "from datetime import datetime\n",
    "\n",
    "for reop_col in [i for i in df.columns if 'REOP_DAT' in i and i!='REOP_DAT']:\n",
    "    df[reop_col] = pd.to_datetime(df[reop_col], format='%m/%d/%Y')"
   ]
  },
  {
   "cell_type": "code",
   "execution_count": 14,
   "id": "02570ba6-5a18-4df8-bfa1-3d460d91a7eb",
   "metadata": {
    "execution": {
     "iopub.execute_input": "2024-02-10T08:34:52.936886Z",
     "iopub.status.busy": "2024-02-10T08:34:52.936142Z",
     "iopub.status.idle": "2024-02-10T08:34:53.082083Z",
     "shell.execute_reply": "2024-02-10T08:34:53.081310Z",
     "shell.execute_reply.started": "2024-02-10T08:34:52.936833Z"
    }
   },
   "outputs": [
    {
     "data": {
      "text/html": [
       "<div>\n",
       "<style scoped>\n",
       "    .dataframe tbody tr th:only-of-type {\n",
       "        vertical-align: middle;\n",
       "    }\n",
       "\n",
       "    .dataframe tbody tr th {\n",
       "        vertical-align: top;\n",
       "    }\n",
       "\n",
       "    .dataframe thead th {\n",
       "        text-align: right;\n",
       "    }\n",
       "</style>\n",
       "<table border=\"1\" class=\"dataframe\">\n",
       "  <thead>\n",
       "    <tr style=\"text-align: right;\">\n",
       "      <th></th>\n",
       "      <th>REOP_DAT</th>\n",
       "      <th>REOP_DAT2</th>\n",
       "      <th>REOP_DAT3</th>\n",
       "      <th>REOP_DAT4</th>\n",
       "      <th>REOP_DAT5</th>\n",
       "    </tr>\n",
       "  </thead>\n",
       "  <tbody>\n",
       "    <tr>\n",
       "      <th>10</th>\n",
       "      <td>NaN</td>\n",
       "      <td>NaN</td>\n",
       "      <td>NaN</td>\n",
       "      <td>NaN</td>\n",
       "      <td>NaN</td>\n",
       "    </tr>\n",
       "    <tr>\n",
       "      <th>263</th>\n",
       "      <td>NaN</td>\n",
       "      <td>NaN</td>\n",
       "      <td>NaN</td>\n",
       "      <td>NaN</td>\n",
       "      <td>NaN</td>\n",
       "    </tr>\n",
       "    <tr>\n",
       "      <th>265</th>\n",
       "      <td>True</td>\n",
       "      <td>False</td>\n",
       "      <td>False</td>\n",
       "      <td>NaN</td>\n",
       "      <td>NaN</td>\n",
       "    </tr>\n",
       "    <tr>\n",
       "      <th>267</th>\n",
       "      <td>NaN</td>\n",
       "      <td>NaN</td>\n",
       "      <td>NaN</td>\n",
       "      <td>NaN</td>\n",
       "      <td>NaN</td>\n",
       "    </tr>\n",
       "    <tr>\n",
       "      <th>268</th>\n",
       "      <td>True</td>\n",
       "      <td>NaN</td>\n",
       "      <td>NaN</td>\n",
       "      <td>NaN</td>\n",
       "      <td>NaN</td>\n",
       "    </tr>\n",
       "    <tr>\n",
       "      <th>...</th>\n",
       "      <td>...</td>\n",
       "      <td>...</td>\n",
       "      <td>...</td>\n",
       "      <td>...</td>\n",
       "      <td>...</td>\n",
       "    </tr>\n",
       "    <tr>\n",
       "      <th>2077</th>\n",
       "      <td>NaN</td>\n",
       "      <td>NaN</td>\n",
       "      <td>NaN</td>\n",
       "      <td>NaN</td>\n",
       "      <td>NaN</td>\n",
       "    </tr>\n",
       "    <tr>\n",
       "      <th>2078</th>\n",
       "      <td>NaN</td>\n",
       "      <td>NaN</td>\n",
       "      <td>NaN</td>\n",
       "      <td>NaN</td>\n",
       "      <td>NaN</td>\n",
       "    </tr>\n",
       "    <tr>\n",
       "      <th>2079</th>\n",
       "      <td>NaN</td>\n",
       "      <td>NaN</td>\n",
       "      <td>NaN</td>\n",
       "      <td>NaN</td>\n",
       "      <td>NaN</td>\n",
       "    </tr>\n",
       "    <tr>\n",
       "      <th>2080</th>\n",
       "      <td>NaN</td>\n",
       "      <td>NaN</td>\n",
       "      <td>NaN</td>\n",
       "      <td>NaN</td>\n",
       "      <td>NaN</td>\n",
       "    </tr>\n",
       "    <tr>\n",
       "      <th>2081</th>\n",
       "      <td>NaN</td>\n",
       "      <td>NaN</td>\n",
       "      <td>NaN</td>\n",
       "      <td>NaN</td>\n",
       "      <td>NaN</td>\n",
       "    </tr>\n",
       "  </tbody>\n",
       "</table>\n",
       "<p>1796 rows × 5 columns</p>\n",
       "</div>"
      ],
      "text/plain": [
       "     REOP_DAT REOP_DAT2 REOP_DAT3 REOP_DAT4 REOP_DAT5\n",
       "10        NaN       NaN       NaN       NaN       NaN\n",
       "263       NaN       NaN       NaN       NaN       NaN\n",
       "265      True     False     False       NaN       NaN\n",
       "267       NaN       NaN       NaN       NaN       NaN\n",
       "268      True       NaN       NaN       NaN       NaN\n",
       "...       ...       ...       ...       ...       ...\n",
       "2077      NaN       NaN       NaN       NaN       NaN\n",
       "2078      NaN       NaN       NaN       NaN       NaN\n",
       "2079      NaN       NaN       NaN       NaN       NaN\n",
       "2080      NaN       NaN       NaN       NaN       NaN\n",
       "2081      NaN       NaN       NaN       NaN       NaN\n",
       "\n",
       "[1796 rows x 5 columns]"
      ]
     },
     "execution_count": 14,
     "metadata": {},
     "output_type": "execute_result"
    }
   ],
   "source": [
    "suitable_timing_reop = {reop_col:{} for reop_col in [i for i in df.columns if 'REOP_DAT' in i]}\n",
    "from datetime import timedelta\n",
    "\n",
    "for i in df[~df.Sx_Date.isna()].index:\n",
    "    sx_date = df.loc[i, 'Sx_Date']\n",
    "    for reop_col in suitable_timing_reop.keys():\n",
    "        reop_date = df.loc[i, reop_col]\n",
    "        if issubclass(type(reop_date), type(pd.NaT)):\n",
    "            suitable_timing_reop[reop_col][i] = np.nan\n",
    "        else:\n",
    "            if (reop_date-sx_date)<=timedelta(days=30):\n",
    "                suitable_timing_reop[reop_col][i] = True\n",
    "            else:\n",
    "                suitable_timing_reop[reop_col][i] = False\n",
    "suitable_timing_reop = pd.DataFrame(suitable_timing_reop)\n",
    "suitable_timing_reop"
   ]
  },
  {
   "cell_type": "code",
   "execution_count": 15,
   "id": "8b1072f2-8222-41ef-a8b4-fd120e6d7e04",
   "metadata": {
    "execution": {
     "iopub.execute_input": "2024-02-10T08:34:56.428235Z",
     "iopub.status.busy": "2024-02-10T08:34:56.427530Z",
     "iopub.status.idle": "2024-02-10T08:34:56.457817Z",
     "shell.execute_reply": "2024-02-10T08:34:56.457015Z",
     "shell.execute_reply.started": "2024-02-10T08:34:56.428192Z"
    }
   },
   "outputs": [
    {
     "data": {
      "text/plain": [
       "REOP_DAT     243\n",
       "REOP_DAT2     64\n",
       "REOP_DAT3     16\n",
       "REOP_DAT4      6\n",
       "REOP_DAT5      1\n",
       "dtype: int64"
      ]
     },
     "execution_count": 15,
     "metadata": {},
     "output_type": "execute_result"
    }
   ],
   "source": [
    "suitable_timing_reop[suitable_timing_reop == True].fillna(0).astype(int).sum()"
   ]
  },
  {
   "cell_type": "code",
   "execution_count": 16,
   "id": "621b9de2-a6f3-43aa-851f-10cb4c5a23a2",
   "metadata": {
    "execution": {
     "iopub.execute_input": "2024-02-10T08:34:57.775785Z",
     "iopub.status.busy": "2024-02-10T08:34:57.775163Z",
     "iopub.status.idle": "2024-02-10T08:34:57.808611Z",
     "shell.execute_reply": "2024-02-10T08:34:57.807869Z",
     "shell.execute_reply.started": "2024-02-10T08:34:57.775716Z"
    }
   },
   "outputs": [
    {
     "data": {
      "text/html": [
       "<div>\n",
       "<style scoped>\n",
       "    .dataframe tbody tr th:only-of-type {\n",
       "        vertical-align: middle;\n",
       "    }\n",
       "\n",
       "    .dataframe tbody tr th {\n",
       "        vertical-align: top;\n",
       "    }\n",
       "\n",
       "    .dataframe thead th {\n",
       "        text-align: right;\n",
       "    }\n",
       "</style>\n",
       "<table border=\"1\" class=\"dataframe\">\n",
       "  <thead>\n",
       "    <tr style=\"text-align: right;\">\n",
       "      <th></th>\n",
       "      <th>Немецкий термин</th>\n",
       "      <th>Русский перевод</th>\n",
       "      <th>Использование имплантанта</th>\n",
       "      <th>german</th>\n",
       "      <th>implant_used</th>\n",
       "    </tr>\n",
       "  </thead>\n",
       "  <tbody>\n",
       "    <tr>\n",
       "      <th>0</th>\n",
       "      <td>Aortenklappe Xenotransplantat: mediane Sternot...</td>\n",
       "      <td>Ксенотрансплантация аортального клапана: среди...</td>\n",
       "      <td>Да</td>\n",
       "      <td>aortenklappexenotransplantat:medianesternotomie</td>\n",
       "      <td>True</td>\n",
       "    </tr>\n",
       "    <tr>\n",
       "      <th>1</th>\n",
       "      <td>Aortenklappe: Endovaskuläre Implantation ohne HLM</td>\n",
       "      <td>Аортальный клапан: эндоваскулярная имплантация...</td>\n",
       "      <td>Да</td>\n",
       "      <td>aortenklappe:endovaskuläreimplantationohnehlm</td>\n",
       "      <td>True</td>\n",
       "    </tr>\n",
       "    <tr>\n",
       "      <th>2</th>\n",
       "      <td>Bypass 1-fach mit Aorten- und Mitralklappeners...</td>\n",
       "      <td>Одиночное шунтирование с заменой аортального и...</td>\n",
       "      <td>Да</td>\n",
       "      <td>bypass1-fachmitaorten-undmitralklappenersatzmi...</td>\n",
       "      <td>True</td>\n",
       "    </tr>\n",
       "    <tr>\n",
       "      <th>3</th>\n",
       "      <td>Bypass 1-fach mit Aortenklappenersatz mit HLM ...</td>\n",
       "      <td>Шунтирование 1-кратное с заменой аортального к...</td>\n",
       "      <td>Да</td>\n",
       "      <td>bypass1-fachmitaortenklappenersatzmithlmundmed...</td>\n",
       "      <td>True</td>\n",
       "    </tr>\n",
       "    <tr>\n",
       "      <th>4</th>\n",
       "      <td>Bypass 1-fach mit Aortenklappenersatz und Mitr...</td>\n",
       "      <td>Шунтирование 1-кратное с заменой аортального к...</td>\n",
       "      <td>Да</td>\n",
       "      <td>bypass1-fachmitaortenklappenersatzundmitralkla...</td>\n",
       "      <td>True</td>\n",
       "    </tr>\n",
       "  </tbody>\n",
       "</table>\n",
       "</div>"
      ],
      "text/plain": [
       "                                     Немецкий термин  \\\n",
       "0  Aortenklappe Xenotransplantat: mediane Sternot...   \n",
       "1  Aortenklappe: Endovaskuläre Implantation ohne HLM   \n",
       "2  Bypass 1-fach mit Aorten- und Mitralklappeners...   \n",
       "3  Bypass 1-fach mit Aortenklappenersatz mit HLM ...   \n",
       "4  Bypass 1-fach mit Aortenklappenersatz und Mitr...   \n",
       "\n",
       "                                     Русский перевод  \\\n",
       "0  Ксенотрансплантация аортального клапана: среди...   \n",
       "1  Аортальный клапан: эндоваскулярная имплантация...   \n",
       "2  Одиночное шунтирование с заменой аортального и...   \n",
       "3  Шунтирование 1-кратное с заменой аортального к...   \n",
       "4  Шунтирование 1-кратное с заменой аортального к...   \n",
       "\n",
       "  Использование имплантанта  \\\n",
       "0                        Да   \n",
       "1                        Да   \n",
       "2                        Да   \n",
       "3                        Да   \n",
       "4                        Да   \n",
       "\n",
       "                                              german  implant_used  \n",
       "0    aortenklappexenotransplantat:medianesternotomie          True  \n",
       "1      aortenklappe:endovaskuläreimplantationohnehlm          True  \n",
       "2  bypass1-fachmitaorten-undmitralklappenersatzmi...          True  \n",
       "3  bypass1-fachmitaortenklappenersatzmithlmundmed...          True  \n",
       "4  bypass1-fachmitaortenklappenersatzundmitralkla...          True  "
      ]
     },
     "execution_count": 16,
     "metadata": {},
     "output_type": "execute_result"
    }
   ],
   "source": [
    "reop_tr = pd.read_csv('data/raw/REOP_EINGR_translation.tsv',sep='\\t')\n",
    "reop_tr['german'] = reop_tr['Немецкий термин'].str.lower().str.replace(' ','')\n",
    "reop_tr['implant_used'] = reop_tr['Использование имплантанта']=='Да'\n",
    "reop_tr.head()"
   ]
  },
  {
   "cell_type": "code",
   "execution_count": 17,
   "id": "0aaf57e6-48bb-4571-adde-3014ad509d0f",
   "metadata": {
    "execution": {
     "iopub.execute_input": "2024-02-10T08:34:58.742362Z",
     "iopub.status.busy": "2024-02-10T08:34:58.741622Z",
     "iopub.status.idle": "2024-02-10T08:34:59.002353Z",
     "shell.execute_reply": "2024-02-10T08:34:59.001581Z",
     "shell.execute_reply.started": "2024-02-10T08:34:58.742312Z"
    }
   },
   "outputs": [
    {
     "data": {
      "text/html": [
       "<div>\n",
       "<style scoped>\n",
       "    .dataframe tbody tr th:only-of-type {\n",
       "        vertical-align: middle;\n",
       "    }\n",
       "\n",
       "    .dataframe tbody tr th {\n",
       "        vertical-align: top;\n",
       "    }\n",
       "\n",
       "    .dataframe thead th {\n",
       "        text-align: right;\n",
       "    }\n",
       "</style>\n",
       "<table border=\"1\" class=\"dataframe\">\n",
       "  <thead>\n",
       "    <tr style=\"text-align: right;\">\n",
       "      <th></th>\n",
       "      <th>REOP_EINGR</th>\n",
       "      <th>REOP_EING2</th>\n",
       "      <th>REOP_EING3</th>\n",
       "      <th>REOP_EING4</th>\n",
       "      <th>REOP_EING5</th>\n",
       "    </tr>\n",
       "  </thead>\n",
       "  <tbody>\n",
       "    <tr>\n",
       "      <th>10</th>\n",
       "      <td>NaN</td>\n",
       "      <td>NaN</td>\n",
       "      <td>NaN</td>\n",
       "      <td>NaN</td>\n",
       "      <td>NaN</td>\n",
       "    </tr>\n",
       "    <tr>\n",
       "      <th>263</th>\n",
       "      <td>NaN</td>\n",
       "      <td>NaN</td>\n",
       "      <td>NaN</td>\n",
       "      <td>NaN</td>\n",
       "      <td>NaN</td>\n",
       "    </tr>\n",
       "    <tr>\n",
       "      <th>265</th>\n",
       "      <td>False</td>\n",
       "      <td>False</td>\n",
       "      <td>False</td>\n",
       "      <td>NaN</td>\n",
       "      <td>NaN</td>\n",
       "    </tr>\n",
       "    <tr>\n",
       "      <th>267</th>\n",
       "      <td>NaN</td>\n",
       "      <td>NaN</td>\n",
       "      <td>NaN</td>\n",
       "      <td>NaN</td>\n",
       "      <td>NaN</td>\n",
       "    </tr>\n",
       "    <tr>\n",
       "      <th>268</th>\n",
       "      <td>False</td>\n",
       "      <td>NaN</td>\n",
       "      <td>NaN</td>\n",
       "      <td>NaN</td>\n",
       "      <td>NaN</td>\n",
       "    </tr>\n",
       "    <tr>\n",
       "      <th>...</th>\n",
       "      <td>...</td>\n",
       "      <td>...</td>\n",
       "      <td>...</td>\n",
       "      <td>...</td>\n",
       "      <td>...</td>\n",
       "    </tr>\n",
       "    <tr>\n",
       "      <th>2077</th>\n",
       "      <td>NaN</td>\n",
       "      <td>NaN</td>\n",
       "      <td>NaN</td>\n",
       "      <td>NaN</td>\n",
       "      <td>NaN</td>\n",
       "    </tr>\n",
       "    <tr>\n",
       "      <th>2078</th>\n",
       "      <td>NaN</td>\n",
       "      <td>NaN</td>\n",
       "      <td>NaN</td>\n",
       "      <td>NaN</td>\n",
       "      <td>NaN</td>\n",
       "    </tr>\n",
       "    <tr>\n",
       "      <th>2079</th>\n",
       "      <td>NaN</td>\n",
       "      <td>NaN</td>\n",
       "      <td>NaN</td>\n",
       "      <td>NaN</td>\n",
       "      <td>NaN</td>\n",
       "    </tr>\n",
       "    <tr>\n",
       "      <th>2080</th>\n",
       "      <td>NaN</td>\n",
       "      <td>NaN</td>\n",
       "      <td>NaN</td>\n",
       "      <td>NaN</td>\n",
       "      <td>NaN</td>\n",
       "    </tr>\n",
       "    <tr>\n",
       "      <th>2081</th>\n",
       "      <td>NaN</td>\n",
       "      <td>NaN</td>\n",
       "      <td>NaN</td>\n",
       "      <td>NaN</td>\n",
       "      <td>NaN</td>\n",
       "    </tr>\n",
       "  </tbody>\n",
       "</table>\n",
       "<p>1796 rows × 5 columns</p>\n",
       "</div>"
      ],
      "text/plain": [
       "     REOP_EINGR REOP_EING2 REOP_EING3 REOP_EING4 REOP_EING5\n",
       "10          NaN        NaN        NaN        NaN        NaN\n",
       "263         NaN        NaN        NaN        NaN        NaN\n",
       "265       False      False      False        NaN        NaN\n",
       "267         NaN        NaN        NaN        NaN        NaN\n",
       "268       False        NaN        NaN        NaN        NaN\n",
       "...         ...        ...        ...        ...        ...\n",
       "2077        NaN        NaN        NaN        NaN        NaN\n",
       "2078        NaN        NaN        NaN        NaN        NaN\n",
       "2079        NaN        NaN        NaN        NaN        NaN\n",
       "2080        NaN        NaN        NaN        NaN        NaN\n",
       "2081        NaN        NaN        NaN        NaN        NaN\n",
       "\n",
       "[1796 rows x 5 columns]"
      ]
     },
     "execution_count": 17,
     "metadata": {},
     "output_type": "execute_result"
    }
   ],
   "source": [
    "suitable_reop_types = {reop_col:{} for reop_col in [i for i in df.columns if 'REOP_EING' in i]}\n",
    "for i in df.index:\n",
    "    for reop_col in suitable_reop_types.keys():\n",
    "        reop_type = df.loc[i, reop_col]\n",
    "        if type(reop_type)==str:\n",
    "            implant_used = reop_tr[reop_tr.german==reop_type.lower().replace(' ', '')].implant_used\n",
    "            suitable_reop_types[reop_col][i]=implant_used.values[0]\n",
    "        else:\n",
    "            suitable_reop_types[reop_col][i]=np.nan\n",
    "suitable_reop_types = pd.DataFrame(suitable_reop_types)\n",
    "suitable_reop_types"
   ]
  },
  {
   "cell_type": "code",
   "execution_count": 18,
   "id": "ce5d456a-fcb3-4f7c-ae4b-b27aee054af6",
   "metadata": {
    "execution": {
     "iopub.execute_input": "2024-02-10T08:34:59.677116Z",
     "iopub.status.busy": "2024-02-10T08:34:59.676518Z",
     "iopub.status.idle": "2024-02-10T08:34:59.706756Z",
     "shell.execute_reply": "2024-02-10T08:34:59.706077Z",
     "shell.execute_reply.started": "2024-02-10T08:34:59.677067Z"
    }
   },
   "outputs": [
    {
     "data": {
      "text/plain": [
       "REOP_EINGR    121\n",
       "REOP_EING2     25\n",
       "REOP_EING3      6\n",
       "REOP_EING4      2\n",
       "REOP_EING5      1\n",
       "dtype: int64"
      ]
     },
     "execution_count": 18,
     "metadata": {},
     "output_type": "execute_result"
    }
   ],
   "source": [
    "suitable_reop_types[suitable_reop_types == True].fillna(0).astype(int).sum()"
   ]
  },
  {
   "cell_type": "code",
   "execution_count": 19,
   "id": "a7d031cb-c507-4a04-a5cb-094dbf7a894f",
   "metadata": {
    "execution": {
     "iopub.execute_input": "2024-02-10T08:35:00.536190Z",
     "iopub.status.busy": "2024-02-10T08:35:00.535428Z",
     "iopub.status.idle": "2024-02-10T08:35:00.606188Z",
     "shell.execute_reply": "2024-02-10T08:35:00.605317Z",
     "shell.execute_reply.started": "2024-02-10T08:35:00.536138Z"
    }
   },
   "outputs": [],
   "source": [
    "suitable_types = suitable_reop_types[suitable_reop_types == True].fillna(0).astype(int)\n",
    "suitable_types.columns = [1,2,3,4,5]\n",
    "suitable_times = suitable_timing_reop[suitable_timing_reop == True].fillna(0).astype(int)\n",
    "suitable_times.columns = [1,2,3,4,5]"
   ]
  },
  {
   "cell_type": "code",
   "execution_count": 20,
   "id": "35066fca-22ff-4a9b-be9a-7b77feb9c580",
   "metadata": {
    "execution": {
     "iopub.execute_input": "2024-02-10T08:35:01.399826Z",
     "iopub.status.busy": "2024-02-10T08:35:01.399219Z",
     "iopub.status.idle": "2024-02-10T08:35:01.430335Z",
     "shell.execute_reply": "2024-02-10T08:35:01.429540Z",
     "shell.execute_reply.started": "2024-02-10T08:35:01.399785Z"
    }
   },
   "outputs": [
    {
     "data": {
      "text/plain": [
       "0    1553\n",
       "1     178\n",
       "2      49\n",
       "3      11\n",
       "4       4\n",
       "5       1\n",
       "Name: count, dtype: int64"
      ]
     },
     "execution_count": 20,
     "metadata": {},
     "output_type": "execute_result"
    }
   ],
   "source": [
    "suitable_times.T.sum().value_counts()"
   ]
  },
  {
   "cell_type": "code",
   "execution_count": 21,
   "id": "3add054f-1c7b-4570-bdaa-ff447ba5c695",
   "metadata": {
    "execution": {
     "iopub.execute_input": "2024-02-10T08:35:02.208589Z",
     "iopub.status.busy": "2024-02-10T08:35:02.207986Z",
     "iopub.status.idle": "2024-02-10T08:35:02.298291Z",
     "shell.execute_reply": "2024-02-10T08:35:02.297543Z",
     "shell.execute_reply.started": "2024-02-10T08:35:02.208540Z"
    }
   },
   "outputs": [
    {
     "data": {
      "text/plain": [
       "10      0\n",
       "1469    0\n",
       "1468    0\n",
       "1467    0\n",
       "1466    0\n",
       "       ..\n",
       "398     2\n",
       "1244    2\n",
       "876     2\n",
       "1738    2\n",
       "622     2\n",
       "Length: 1796, dtype: int64"
      ]
     },
     "execution_count": 21,
     "metadata": {},
     "output_type": "execute_result"
    }
   ],
   "source": [
    "implantated_reop_pats = {i:0 for i in suitable_times.index}\n",
    "\n",
    "for col in suitable_times.columns:\n",
    "    for i in suitable_times.index:\n",
    "        if suitable_times.loc[i,col]==1 and suitable_types.loc[i,col]==1:\n",
    "            implantated_reop_pats[i] += 1\n",
    "implantated_reop_pats = pd.Series(implantated_reop_pats)\n",
    "implantated_reop_pats.sort_values()"
   ]
  },
  {
   "cell_type": "code",
   "execution_count": 56,
   "id": "10dbb855-5976-4545-839b-4498ea41ef4d",
   "metadata": {
    "execution": {
     "iopub.execute_input": "2024-01-26T14:02:12.959585Z",
     "iopub.status.busy": "2024-01-26T14:02:12.959031Z",
     "iopub.status.idle": "2024-01-26T14:02:13.314922Z",
     "shell.execute_reply": "2024-01-26T14:02:13.314206Z",
     "shell.execute_reply.started": "2024-01-26T14:02:12.959546Z"
    }
   },
   "outputs": [
    {
     "data": {
      "text/plain": [
       "<Axes: ylabel='Density'>"
      ]
     },
     "execution_count": 56,
     "metadata": {},
     "output_type": "execute_result"
    },
    {
     "data": {
      "image/png": "[encoded data removed]",
      "text/plain": [
       "<Figure size 432x288 with 1 Axes>"
      ]
     },
     "metadata": {
      "needs_background": "light"
     },
     "output_type": "display_data"
    }
   ],
   "source": [
    "sns.distplot(implantated_reop_pats)"
   ]
  },
  {
   "cell_type": "code",
   "execution_count": 22,
   "id": "4f47500c-c607-4430-8086-e53f0bfe2ac3",
   "metadata": {
    "execution": {
     "iopub.execute_input": "2024-02-10T08:35:05.206576Z",
     "iopub.status.busy": "2024-02-10T08:35:05.205815Z",
     "iopub.status.idle": "2024-02-10T08:35:05.278129Z",
     "shell.execute_reply": "2024-02-10T08:35:05.277332Z",
     "shell.execute_reply.started": "2024-02-10T08:35:05.206523Z"
    }
   },
   "outputs": [
    {
     "data": {
      "text/html": [
       "<div>\n",
       "<style scoped>\n",
       "    .dataframe tbody tr th:only-of-type {\n",
       "        vertical-align: middle;\n",
       "    }\n",
       "\n",
       "    .dataframe tbody tr th {\n",
       "        vertical-align: top;\n",
       "    }\n",
       "\n",
       "    .dataframe thead th {\n",
       "        text-align: right;\n",
       "    }\n",
       "</style>\n",
       "<table border=\"1\" class=\"dataframe\">\n",
       "  <thead>\n",
       "    <tr style=\"text-align: right;\">\n",
       "      <th></th>\n",
       "      <th>Birth_Date</th>\n",
       "      <th>Age</th>\n",
       "      <th>OS_Event</th>\n",
       "      <th>OS_Date</th>\n",
       "      <th>Mortality_Days</th>\n",
       "      <th>Last_FU</th>\n",
       "      <th>Gender</th>\n",
       "      <th>Height</th>\n",
       "      <th>Weight</th>\n",
       "      <th>BMI</th>\n",
       "      <th>...</th>\n",
       "      <th>FUEcho_PAP</th>\n",
       "      <th>FUEcho_IVSd</th>\n",
       "      <th>FUEcho_MPG</th>\n",
       "      <th>FUEcho_Vmax</th>\n",
       "      <th>FUEcho_AOF</th>\n",
       "      <th>FUEcho_Signs_of_SVD</th>\n",
       "      <th>FUEcho_SVD_VARC3</th>\n",
       "      <th>FUEcho_AI</th>\n",
       "      <th>FUEcho_PHT</th>\n",
       "      <th>FUEcho_Date</th>\n",
       "    </tr>\n",
       "    <tr>\n",
       "      <th>Case_Num</th>\n",
       "      <th></th>\n",
       "      <th></th>\n",
       "      <th></th>\n",
       "      <th></th>\n",
       "      <th></th>\n",
       "      <th></th>\n",
       "      <th></th>\n",
       "      <th></th>\n",
       "      <th></th>\n",
       "      <th></th>\n",
       "      <th></th>\n",
       "      <th></th>\n",
       "      <th></th>\n",
       "      <th></th>\n",
       "      <th></th>\n",
       "      <th></th>\n",
       "      <th></th>\n",
       "      <th></th>\n",
       "      <th></th>\n",
       "      <th></th>\n",
       "      <th></th>\n",
       "    </tr>\n",
       "  </thead>\n",
       "  <tbody>\n",
       "    <tr>\n",
       "      <th>10</th>\n",
       "      <td>1959-01-13</td>\n",
       "      <td>57</td>\n",
       "      <td>0</td>\n",
       "      <td>NaN</td>\n",
       "      <td>NaN</td>\n",
       "      <td>2020-12-03 08:32:17</td>\n",
       "      <td>M</td>\n",
       "      <td>176</td>\n",
       "      <td>104</td>\n",
       "      <td>33.574380</td>\n",
       "      <td>...</td>\n",
       "      <td>NaN</td>\n",
       "      <td>1.2</td>\n",
       "      <td>7.0</td>\n",
       "      <td>2.00</td>\n",
       "      <td>1.86</td>\n",
       "      <td>0.0</td>\n",
       "      <td>0.0</td>\n",
       "      <td>0.0</td>\n",
       "      <td>NaN</td>\n",
       "      <td>2020-12-03</td>\n",
       "    </tr>\n",
       "    <tr>\n",
       "      <th>263</th>\n",
       "      <td>1938-08-15</td>\n",
       "      <td>72</td>\n",
       "      <td>0</td>\n",
       "      <td>NaN</td>\n",
       "      <td>NaN</td>\n",
       "      <td>NaN</td>\n",
       "      <td>W</td>\n",
       "      <td>153</td>\n",
       "      <td>80</td>\n",
       "      <td>34.174889</td>\n",
       "      <td>...</td>\n",
       "      <td>NaN</td>\n",
       "      <td>NaN</td>\n",
       "      <td>NaN</td>\n",
       "      <td>NaN</td>\n",
       "      <td>NaN</td>\n",
       "      <td>NaN</td>\n",
       "      <td>NaN</td>\n",
       "      <td>NaN</td>\n",
       "      <td>NaN</td>\n",
       "      <td>NaN</td>\n",
       "    </tr>\n",
       "    <tr>\n",
       "      <th>265</th>\n",
       "      <td>1940-03-05</td>\n",
       "      <td>70</td>\n",
       "      <td>1</td>\n",
       "      <td>2011-11-13 00:00:00</td>\n",
       "      <td>278.0</td>\n",
       "      <td>2011-11-01 00:00:00</td>\n",
       "      <td>W</td>\n",
       "      <td>163</td>\n",
       "      <td>52</td>\n",
       "      <td>19.571681</td>\n",
       "      <td>...</td>\n",
       "      <td>NaN</td>\n",
       "      <td>NaN</td>\n",
       "      <td>NaN</td>\n",
       "      <td>NaN</td>\n",
       "      <td>NaN</td>\n",
       "      <td>0.0</td>\n",
       "      <td>NaN</td>\n",
       "      <td>0.0</td>\n",
       "      <td>NaN</td>\n",
       "      <td>2011-11-01</td>\n",
       "    </tr>\n",
       "    <tr>\n",
       "      <th>267</th>\n",
       "      <td>1935-05-24</td>\n",
       "      <td>75</td>\n",
       "      <td>0</td>\n",
       "      <td>NaN</td>\n",
       "      <td>NaN</td>\n",
       "      <td>2011-11-01 00:00:00</td>\n",
       "      <td>M</td>\n",
       "      <td>170</td>\n",
       "      <td>85</td>\n",
       "      <td>29.411764</td>\n",
       "      <td>...</td>\n",
       "      <td>50.0</td>\n",
       "      <td>1.3</td>\n",
       "      <td>NaN</td>\n",
       "      <td>2.46</td>\n",
       "      <td>NaN</td>\n",
       "      <td>0.0</td>\n",
       "      <td>NaN</td>\n",
       "      <td>1.0</td>\n",
       "      <td>1.0</td>\n",
       "      <td>2020-08-14</td>\n",
       "    </tr>\n",
       "    <tr>\n",
       "      <th>268</th>\n",
       "      <td>1928-05-18</td>\n",
       "      <td>82</td>\n",
       "      <td>0</td>\n",
       "      <td>NaN</td>\n",
       "      <td>NaN</td>\n",
       "      <td>2021-07-30 00:00:00</td>\n",
       "      <td>W</td>\n",
       "      <td>153</td>\n",
       "      <td>50</td>\n",
       "      <td>21.359306</td>\n",
       "      <td>...</td>\n",
       "      <td>NaN</td>\n",
       "      <td>NaN</td>\n",
       "      <td>NaN</td>\n",
       "      <td>NaN</td>\n",
       "      <td>NaN</td>\n",
       "      <td>NaN</td>\n",
       "      <td>NaN</td>\n",
       "      <td>1.0</td>\n",
       "      <td>NaN</td>\n",
       "      <td>2021-07-01</td>\n",
       "    </tr>\n",
       "    <tr>\n",
       "      <th>...</th>\n",
       "      <td>...</td>\n",
       "      <td>...</td>\n",
       "      <td>...</td>\n",
       "      <td>...</td>\n",
       "      <td>...</td>\n",
       "      <td>...</td>\n",
       "      <td>...</td>\n",
       "      <td>...</td>\n",
       "      <td>...</td>\n",
       "      <td>...</td>\n",
       "      <td>...</td>\n",
       "      <td>...</td>\n",
       "      <td>...</td>\n",
       "      <td>...</td>\n",
       "      <td>...</td>\n",
       "      <td>...</td>\n",
       "      <td>...</td>\n",
       "      <td>...</td>\n",
       "      <td>...</td>\n",
       "      <td>...</td>\n",
       "      <td>...</td>\n",
       "    </tr>\n",
       "    <tr>\n",
       "      <th>2077</th>\n",
       "      <td>1963-05-23</td>\n",
       "      <td>58</td>\n",
       "      <td>1</td>\n",
       "      <td>2021-08-27 00:00:00</td>\n",
       "      <td>1.0</td>\n",
       "      <td>2021-08-27 00:00:00</td>\n",
       "      <td>M</td>\n",
       "      <td>0</td>\n",
       "      <td>0</td>\n",
       "      <td>NaN</td>\n",
       "      <td>...</td>\n",
       "      <td>NaN</td>\n",
       "      <td>NaN</td>\n",
       "      <td>NaN</td>\n",
       "      <td>NaN</td>\n",
       "      <td>NaN</td>\n",
       "      <td>NaN</td>\n",
       "      <td>NaN</td>\n",
       "      <td>NaN</td>\n",
       "      <td>NaN</td>\n",
       "      <td>NaN</td>\n",
       "    </tr>\n",
       "    <tr>\n",
       "      <th>2078</th>\n",
       "      <td>1945-03-07</td>\n",
       "      <td>76</td>\n",
       "      <td>0</td>\n",
       "      <td>NaN</td>\n",
       "      <td>NaN</td>\n",
       "      <td>NaN</td>\n",
       "      <td>M</td>\n",
       "      <td>163</td>\n",
       "      <td>79</td>\n",
       "      <td>29.733900</td>\n",
       "      <td>...</td>\n",
       "      <td>NaN</td>\n",
       "      <td>NaN</td>\n",
       "      <td>NaN</td>\n",
       "      <td>NaN</td>\n",
       "      <td>NaN</td>\n",
       "      <td>NaN</td>\n",
       "      <td>NaN</td>\n",
       "      <td>NaN</td>\n",
       "      <td>NaN</td>\n",
       "      <td>NaN</td>\n",
       "    </tr>\n",
       "    <tr>\n",
       "      <th>2079</th>\n",
       "      <td>1955-10-12</td>\n",
       "      <td>66</td>\n",
       "      <td>0</td>\n",
       "      <td>NaN</td>\n",
       "      <td>NaN</td>\n",
       "      <td>NaN</td>\n",
       "      <td>M</td>\n",
       "      <td>175</td>\n",
       "      <td>80</td>\n",
       "      <td>26.122448</td>\n",
       "      <td>...</td>\n",
       "      <td>NaN</td>\n",
       "      <td>NaN</td>\n",
       "      <td>NaN</td>\n",
       "      <td>NaN</td>\n",
       "      <td>NaN</td>\n",
       "      <td>NaN</td>\n",
       "      <td>NaN</td>\n",
       "      <td>NaN</td>\n",
       "      <td>NaN</td>\n",
       "      <td>NaN</td>\n",
       "    </tr>\n",
       "    <tr>\n",
       "      <th>2080</th>\n",
       "      <td>1953-11-10</td>\n",
       "      <td>68</td>\n",
       "      <td>0</td>\n",
       "      <td>NaN</td>\n",
       "      <td>NaN</td>\n",
       "      <td>NaN</td>\n",
       "      <td>M</td>\n",
       "      <td>176</td>\n",
       "      <td>90</td>\n",
       "      <td>29.054752</td>\n",
       "      <td>...</td>\n",
       "      <td>NaN</td>\n",
       "      <td>NaN</td>\n",
       "      <td>NaN</td>\n",
       "      <td>NaN</td>\n",
       "      <td>NaN</td>\n",
       "      <td>NaN</td>\n",
       "      <td>NaN</td>\n",
       "      <td>NaN</td>\n",
       "      <td>NaN</td>\n",
       "      <td>NaN</td>\n",
       "    </tr>\n",
       "    <tr>\n",
       "      <th>2081</th>\n",
       "      <td>1954-07-06</td>\n",
       "      <td>67</td>\n",
       "      <td>0</td>\n",
       "      <td>NaN</td>\n",
       "      <td>NaN</td>\n",
       "      <td>NaN</td>\n",
       "      <td>M</td>\n",
       "      <td>180</td>\n",
       "      <td>85</td>\n",
       "      <td>26.234567</td>\n",
       "      <td>...</td>\n",
       "      <td>NaN</td>\n",
       "      <td>NaN</td>\n",
       "      <td>NaN</td>\n",
       "      <td>NaN</td>\n",
       "      <td>NaN</td>\n",
       "      <td>NaN</td>\n",
       "      <td>NaN</td>\n",
       "      <td>NaN</td>\n",
       "      <td>NaN</td>\n",
       "      <td>NaN</td>\n",
       "    </tr>\n",
       "  </tbody>\n",
       "</table>\n",
       "<p>1796 rows × 110 columns</p>\n",
       "</div>"
      ],
      "text/plain": [
       "          Birth_Date  Age  OS_Event              OS_Date  Mortality_Days  \\\n",
       "Case_Num                                                                   \n",
       "10        1959-01-13   57         0                  NaN             NaN   \n",
       "263       1938-08-15   72         0                  NaN             NaN   \n",
       "265       1940-03-05   70         1  2011-11-13 00:00:00           278.0   \n",
       "267       1935-05-24   75         0                  NaN             NaN   \n",
       "268       1928-05-18   82         0                  NaN             NaN   \n",
       "...              ...  ...       ...                  ...             ...   \n",
       "2077      1963-05-23   58         1  2021-08-27 00:00:00             1.0   \n",
       "2078      1945-03-07   76         0                  NaN             NaN   \n",
       "2079      1955-10-12   66         0                  NaN             NaN   \n",
       "2080      1953-11-10   68         0                  NaN             NaN   \n",
       "2081      1954-07-06   67         0                  NaN             NaN   \n",
       "\n",
       "                      Last_FU Gender  Height  Weight        BMI  ...  \\\n",
       "Case_Num                                                         ...   \n",
       "10        2020-12-03 08:32:17      M     176     104  33.574380  ...   \n",
       "263                       NaN      W     153      80  34.174889  ...   \n",
       "265       2011-11-01 00:00:00      W     163      52  19.571681  ...   \n",
       "267       2011-11-01 00:00:00      M     170      85  29.411764  ...   \n",
       "268       2021-07-30 00:00:00      W     153      50  21.359306  ...   \n",
       "...                       ...    ...     ...     ...        ...  ...   \n",
       "2077      2021-08-27 00:00:00      M       0       0        NaN  ...   \n",
       "2078                      NaN      M     163      79  29.733900  ...   \n",
       "2079                      NaN      M     175      80  26.122448  ...   \n",
       "2080                      NaN      M     176      90  29.054752  ...   \n",
       "2081                      NaN      M     180      85  26.234567  ...   \n",
       "\n",
       "          FUEcho_PAP  FUEcho_IVSd  FUEcho_MPG  FUEcho_Vmax  FUEcho_AOF  \\\n",
       "Case_Num                                                                 \n",
       "10               NaN          1.2         7.0         2.00        1.86   \n",
       "263              NaN          NaN         NaN          NaN         NaN   \n",
       "265              NaN          NaN         NaN          NaN         NaN   \n",
       "267             50.0          1.3         NaN         2.46         NaN   \n",
       "268              NaN          NaN         NaN          NaN         NaN   \n",
       "...              ...          ...         ...          ...         ...   \n",
       "2077             NaN          NaN         NaN          NaN         NaN   \n",
       "2078             NaN          NaN         NaN          NaN         NaN   \n",
       "2079             NaN          NaN         NaN          NaN         NaN   \n",
       "2080             NaN          NaN         NaN          NaN         NaN   \n",
       "2081             NaN          NaN         NaN          NaN         NaN   \n",
       "\n",
       "          FUEcho_Signs_of_SVD  FUEcho_SVD_VARC3  FUEcho_AI  FUEcho_PHT  \\\n",
       "Case_Num                                                                 \n",
       "10                        0.0               0.0        0.0         NaN   \n",
       "263                       NaN               NaN        NaN         NaN   \n",
       "265                       0.0               NaN        0.0         NaN   \n",
       "267                       0.0               NaN        1.0         1.0   \n",
       "268                       NaN               NaN        1.0         NaN   \n",
       "...                       ...               ...        ...         ...   \n",
       "2077                      NaN               NaN        NaN         NaN   \n",
       "2078                      NaN               NaN        NaN         NaN   \n",
       "2079                      NaN               NaN        NaN         NaN   \n",
       "2080                      NaN               NaN        NaN         NaN   \n",
       "2081                      NaN               NaN        NaN         NaN   \n",
       "\n",
       "          FUEcho_Date  \n",
       "Case_Num               \n",
       "10         2020-12-03  \n",
       "263               NaN  \n",
       "265        2011-11-01  \n",
       "267        2020-08-14  \n",
       "268        2021-07-01  \n",
       "...               ...  \n",
       "2077              NaN  \n",
       "2078              NaN  \n",
       "2079              NaN  \n",
       "2080              NaN  \n",
       "2081              NaN  \n",
       "\n",
       "[1796 rows x 110 columns]"
      ]
     },
     "execution_count": 22,
     "metadata": {},
     "output_type": "execute_result"
    }
   ],
   "source": [
    "df_en = read_dataset('df_en.csv',sep=',')\n",
    "df_en"
   ]
  },
  {
   "cell_type": "code",
   "execution_count": 23,
   "id": "327599f1-eabc-450a-9b0b-8e380b1bc3fe",
   "metadata": {
    "execution": {
     "iopub.execute_input": "2024-02-10T08:35:06.652765Z",
     "iopub.status.busy": "2024-02-10T08:35:06.652009Z",
     "iopub.status.idle": "2024-02-10T08:35:06.687480Z",
     "shell.execute_reply": "2024-02-10T08:35:06.686651Z",
     "shell.execute_reply.started": "2024-02-10T08:35:06.652715Z"
    }
   },
   "outputs": [
    {
     "data": {
      "text/html": [
       "<div>\n",
       "<style scoped>\n",
       "    .dataframe tbody tr th:only-of-type {\n",
       "        vertical-align: middle;\n",
       "    }\n",
       "\n",
       "    .dataframe tbody tr th {\n",
       "        vertical-align: top;\n",
       "    }\n",
       "\n",
       "    .dataframe thead th {\n",
       "        text-align: right;\n",
       "    }\n",
       "</style>\n",
       "<table border=\"1\" class=\"dataframe\">\n",
       "  <thead>\n",
       "    <tr style=\"text-align: right;\">\n",
       "      <th>col_0</th>\n",
       "      <th>0</th>\n",
       "      <th>1</th>\n",
       "      <th>2</th>\n",
       "      <th>3</th>\n",
       "      <th>4</th>\n",
       "      <th>5</th>\n",
       "    </tr>\n",
       "    <tr>\n",
       "      <th>REOP?</th>\n",
       "      <th></th>\n",
       "      <th></th>\n",
       "      <th></th>\n",
       "      <th></th>\n",
       "      <th></th>\n",
       "      <th></th>\n",
       "    </tr>\n",
       "  </thead>\n",
       "  <tbody>\n",
       "    <tr>\n",
       "      <th>0</th>\n",
       "      <td>1455</td>\n",
       "      <td>0</td>\n",
       "      <td>0</td>\n",
       "      <td>0</td>\n",
       "      <td>0</td>\n",
       "      <td>0</td>\n",
       "    </tr>\n",
       "    <tr>\n",
       "      <th>1</th>\n",
       "      <td>98</td>\n",
       "      <td>178</td>\n",
       "      <td>49</td>\n",
       "      <td>11</td>\n",
       "      <td>4</td>\n",
       "      <td>1</td>\n",
       "    </tr>\n",
       "  </tbody>\n",
       "</table>\n",
       "</div>"
      ],
      "text/plain": [
       "col_0     0    1   2   3  4  5\n",
       "REOP?                         \n",
       "0      1455    0   0   0  0  0\n",
       "1        98  178  49  11  4  1"
      ]
     },
     "execution_count": 23,
     "metadata": {},
     "output_type": "execute_result"
    }
   ],
   "source": [
    "pd.crosstab(df_en['REOP?'].fillna('na'), suitable_times.T.sum().fillna('na'))"
   ]
  },
  {
   "cell_type": "code",
   "execution_count": 24,
   "id": "0dc17e24-ebeb-4f97-a6b3-a278fc6c9661",
   "metadata": {
    "execution": {
     "iopub.execute_input": "2024-02-10T08:35:08.875850Z",
     "iopub.status.busy": "2024-02-10T08:35:08.875220Z",
     "iopub.status.idle": "2024-02-10T08:35:08.901663Z",
     "shell.execute_reply": "2024-02-10T08:35:08.900870Z",
     "shell.execute_reply.started": "2024-02-10T08:35:08.875799Z"
    }
   },
   "outputs": [],
   "source": [
    "df_en['Reop_num_within_30_with_implant'] = implantated_reop_pats.reindex(df_en.index)\n",
    "df_en['Reop_num_within_30'] = suitable_times.T.sum().reindex(df_en.index)"
   ]
  },
  {
   "cell_type": "code",
   "execution_count": 25,
   "id": "86e187f4-b8a8-47c5-a1d4-0d81539213de",
   "metadata": {
    "execution": {
     "iopub.execute_input": "2024-02-10T08:35:11.328958Z",
     "iopub.status.busy": "2024-02-10T08:35:11.328257Z",
     "iopub.status.idle": "2024-02-10T08:35:11.355274Z",
     "shell.execute_reply": "2024-02-10T08:35:11.354525Z",
     "shell.execute_reply.started": "2024-02-10T08:35:11.328908Z"
    }
   },
   "outputs": [
    {
     "data": {
      "text/plain": [
       "['FUEcho_Signs_of_SVD',\n",
       " 'Reop_num_within_30_with_implant',\n",
       " 'Reop_num_within_30',\n",
       " 'REOP?',\n",
       " 'LQ_Mobility',\n",
       " 'LQ_Self_Care',\n",
       " 'LQ_Dayt_Activity',\n",
       " 'LQ_Pain',\n",
       " 'LQ_Fear']"
      ]
     },
     "execution_count": 25,
     "metadata": {},
     "output_type": "execute_result"
    }
   ],
   "source": [
    "safety_cols = ['FUEcho_Signs_of_SVD','Reop_num_within_30_with_implant','Reop_num_within_30', 'REOP?']+[i for i in df_en.columns if 'LQ_' in i and i != 'LQ_LQ']\n",
    "safety_cols"
   ]
  },
  {
   "cell_type": "code",
   "execution_count": 26,
   "id": "d90c0b8a-3edb-4c9b-9b08-323d01ada9c9",
   "metadata": {
    "execution": {
     "iopub.execute_input": "2024-02-10T08:35:12.574210Z",
     "iopub.status.busy": "2024-02-10T08:35:12.573462Z",
     "iopub.status.idle": "2024-02-10T08:35:12.604311Z",
     "shell.execute_reply": "2024-02-10T08:35:12.603503Z",
     "shell.execute_reply.started": "2024-02-10T08:35:12.574147Z"
    }
   },
   "outputs": [
    {
     "data": {
      "text/plain": [
       "(1529, 112)"
      ]
     },
     "execution_count": 26,
     "metadata": {},
     "output_type": "execute_result"
    }
   ],
   "source": [
    "df_en = df_en[~df_en.Upsizing.isna()]\n",
    "df_en.shape"
   ]
  },
  {
   "cell_type": "code",
   "execution_count": 29,
   "id": "2a63dea9-aeef-40e9-bd55-388efabe83b8",
   "metadata": {
    "execution": {
     "iopub.execute_input": "2024-02-10T08:37:04.523528Z",
     "iopub.status.busy": "2024-02-10T08:37:04.522927Z",
     "iopub.status.idle": "2024-02-10T08:37:04.973173Z",
     "shell.execute_reply": "2024-02-10T08:37:04.971854Z",
     "shell.execute_reply.started": "2024-02-10T08:37:04.523479Z"
    }
   },
   "outputs": [
    {
     "name": "stdout",
     "output_type": "stream",
     "text": [
      "0    1378\n",
      "1      85\n",
      "2       6\n",
      "Name: count, dtype: int64\n"
     ]
    }
   ],
   "source": [
    "implanted_earlier = {i:0 for i in df_en.index}\n",
    "impl_cols = ['Implanted_Pacemaker','Implanted_Defibrillator','Implanted_Card_Resynch_Therapy']\n",
    "for i in df_en.index:\n",
    "    for col in impl_cols:\n",
    "        if df_en.loc[i, col] == 1:\n",
    "            implanted_earlier[i] +=1\n",
    "implanted_earlier = pd.Series(implanted_earlier)[df_en[impl_cols].dropna(how='all').index]\n",
    "print(implanted_earlier.value_counts())\n",
    "df_en['Implanted_Earlier'] = implanted_earlier.reindex(df_en.index)\n",
    "df_en['Implanted_Earlier'] = pd.cut(df_en['Implanted_Earlier'], [-np.inf, 0, np.inf], labels=[0,1])\n",
    "df_en['log10_STS'] = np.log10(df_en.STS+1)"
   ]
  },
  {
   "cell_type": "code",
   "execution_count": 31,
   "id": "b14a60ee-24c7-4818-adcf-f7745a96a5f0",
   "metadata": {
    "execution": {
     "iopub.execute_input": "2024-02-10T08:37:06.338902Z",
     "iopub.status.busy": "2024-02-10T08:37:06.338302Z",
     "iopub.status.idle": "2024-02-10T08:37:06.367966Z",
     "shell.execute_reply": "2024-02-10T08:37:06.367143Z",
     "shell.execute_reply.started": "2024-02-10T08:37:06.338853Z"
    }
   },
   "outputs": [],
   "source": [
    "base_formula = 'Age + BMI + Gender + log10_STS + NYHA_Heart_Fail_Class + Prosthesis_Anat_Aort_Valve + Prosthesis_Anat_Size'\n",
    "base_cols = base_formula.split(' + ')"
   ]
  },
  {
   "cell_type": "code",
   "execution_count": 33,
   "id": "d36d87c9-8331-4763-a3ea-4baa3993f044",
   "metadata": {
    "execution": {
     "iopub.execute_input": "2024-02-10T08:37:08.315050Z",
     "iopub.status.busy": "2024-02-10T08:37:08.314444Z",
     "iopub.status.idle": "2024-02-10T08:37:08.345622Z",
     "shell.execute_reply": "2024-02-10T08:37:08.344790Z",
     "shell.execute_reply.started": "2024-02-10T08:37:08.315000Z"
    }
   },
   "outputs": [
    {
     "data": {
      "text/plain": [
       "(1469, 11)"
      ]
     },
     "execution_count": 33,
     "metadata": {},
     "output_type": "execute_result"
    }
   ],
   "source": [
    "surg_vars = '+ Sx_Aort_Clamp_t + Sx_Date'\n",
    "add_vars = '+ Implanted_Earlier'\n",
    "\n",
    "df_add_vars = df_en[base_cols+['Upsizing','Sx_Aort_Clamp_t','Sx_Date','Implanted_Earlier']].dropna()\n",
    "df_add_vars.shape"
   ]
  },
  {
   "cell_type": "code",
   "execution_count": 34,
   "id": "0cd7ff99-286e-425d-b697-b838a717a6de",
   "metadata": {
    "execution": {
     "iopub.execute_input": "2024-02-10T08:37:09.111025Z",
     "iopub.status.busy": "2024-02-10T08:37:09.110057Z",
     "iopub.status.idle": "2024-02-10T08:37:09.138804Z",
     "shell.execute_reply": "2024-02-10T08:37:09.137999Z",
     "shell.execute_reply.started": "2024-02-10T08:37:09.110972Z"
    }
   },
   "outputs": [
    {
     "data": {
      "text/plain": [
       "(420, 20)"
      ]
     },
     "execution_count": 34,
     "metadata": {},
     "output_type": "execute_result"
    }
   ],
   "source": [
    "df_full_safety = df_en[base_cols+['Upsizing','Sx_Aort_Clamp_t','Sx_Date','Implanted_Earlier']+safety_cols].dropna()\n",
    "df_full_safety.shape"
   ]
  },
  {
   "cell_type": "code",
   "execution_count": 35,
   "id": "7317f313-6f40-4285-a395-e2633143b540",
   "metadata": {
    "execution": {
     "iopub.execute_input": "2024-02-10T08:37:09.925244Z",
     "iopub.status.busy": "2024-02-10T08:37:09.924635Z",
     "iopub.status.idle": "2024-02-10T08:37:09.953861Z",
     "shell.execute_reply": "2024-02-10T08:37:09.953095Z",
     "shell.execute_reply.started": "2024-02-10T08:37:09.925195Z"
    }
   },
   "outputs": [
    {
     "data": {
      "text/plain": [
       "(1469, 14)"
      ]
     },
     "execution_count": 35,
     "metadata": {},
     "output_type": "execute_result"
    }
   ],
   "source": [
    "df_reop_safety = df_en[base_cols+['Upsizing','Sx_Aort_Clamp_t','Sx_Date','Implanted_Earlier']+['Reop_num_within_30_with_implant',\n",
    " 'Reop_num_within_30',\n",
    " 'REOP?']].dropna()\n",
    "df_reop_safety.shape"
   ]
  },
  {
   "cell_type": "code",
   "execution_count": 36,
   "id": "a289da57-6b28-40d8-8da0-59c3442ce588",
   "metadata": {
    "execution": {
     "iopub.execute_input": "2024-02-10T08:37:10.789675Z",
     "iopub.status.busy": "2024-02-10T08:37:10.789076Z",
     "iopub.status.idle": "2024-02-10T08:37:10.818170Z",
     "shell.execute_reply": "2024-02-10T08:37:10.817377Z",
     "shell.execute_reply.started": "2024-02-10T08:37:10.789626Z"
    },
    "scrolled": true
   },
   "outputs": [
    {
     "data": {
      "text/plain": [
       "(590, 12)"
      ]
     },
     "execution_count": 36,
     "metadata": {},
     "output_type": "execute_result"
    }
   ],
   "source": [
    "df_svd_safety = df_en[base_cols+['Upsizing','Sx_Aort_Clamp_t','Sx_Date','Implanted_Earlier']+['FUEcho_Signs_of_SVD']].dropna()\n",
    "df_svd_safety.shape"
   ]
  },
  {
   "cell_type": "code",
   "execution_count": 37,
   "id": "75fffd0b-3a5f-4030-8921-338c5b9b8a06",
   "metadata": {
    "execution": {
     "iopub.execute_input": "2024-02-10T08:37:11.561539Z",
     "iopub.status.busy": "2024-02-10T08:37:11.560924Z",
     "iopub.status.idle": "2024-02-10T08:37:11.589876Z",
     "shell.execute_reply": "2024-02-10T08:37:11.589123Z",
     "shell.execute_reply.started": "2024-02-10T08:37:11.561489Z"
    }
   },
   "outputs": [
    {
     "data": {
      "text/plain": [
       "(652, 16)"
      ]
     },
     "execution_count": 37,
     "metadata": {},
     "output_type": "execute_result"
    }
   ],
   "source": [
    "df_lq_safety = df_en[base_cols+['Upsizing','Sx_Aort_Clamp_t','Sx_Date','Implanted_Earlier']+['LQ_Mobility',\n",
    " 'LQ_Self_Care',\n",
    " 'LQ_Dayt_Activity',\n",
    " 'LQ_Pain',\n",
    " 'LQ_Fear']].dropna()\n",
    "df_lq_safety.shape\n",
    "#все в районе 660"
   ]
  },
  {
   "cell_type": "code",
   "execution_count": 38,
   "id": "7b22958a-cc4a-4d12-a22c-66af40089119",
   "metadata": {
    "execution": {
     "iopub.execute_input": "2024-02-10T08:37:14.942922Z",
     "iopub.status.busy": "2024-02-10T08:37:14.942311Z",
     "iopub.status.idle": "2024-02-10T08:37:14.973191Z",
     "shell.execute_reply": "2024-02-10T08:37:14.972382Z",
     "shell.execute_reply.started": "2024-02-10T08:37:14.942872Z"
    }
   },
   "outputs": [],
   "source": [
    "df_reop_safety['REOP_Flag'] = df_reop_safety['REOP?']\n",
    "df_reop_safety['Reop_num_within_30_with_implant_Flag'] = pd.Series(index = pd.cut(df_reop_safety['Reop_num_within_30_with_implant'], bins=[-np.inf,0,np.inf], labels=[0,1]).index, data = pd.cut(df_reop_safety['Reop_num_within_30_with_implant'], bins=[-np.inf,0,np.inf], labels=[0,1]).values.to_list())\n",
    "df_reop_safety['Reop_num_within_30_Flag'] = pd.Series(index=pd.cut(df_reop_safety['Reop_num_within_30'], bins=[-np.inf,0,np.inf], labels=[0,1]).index, data = pd.cut(df_reop_safety['Reop_num_within_30'], bins=[-np.inf,0,np.inf], labels=[0,1]).values.to_list())\n",
    "\n",
    "data = df_reop_safety\n",
    "cols = ['Reop_num_within_30_with_implant_Flag',\n",
    " 'Reop_num_within_30_with_implant_Flag',\n",
    " 'REOP_Flag']\n",
    "\n",
    "formula = base_formula"
   ]
  },
  {
   "cell_type": "code",
   "execution_count": 74,
   "id": "c7baa882-a5b5-4e3c-8d45-7d426423d064",
   "metadata": {
    "execution": {
     "iopub.execute_input": "2024-02-10T09:58:53.775422Z",
     "iopub.status.busy": "2024-02-10T09:58:53.774690Z",
     "iopub.status.idle": "2024-02-10T09:58:53.808209Z",
     "shell.execute_reply": "2024-02-10T09:58:53.807451Z",
     "shell.execute_reply.started": "2024-02-10T09:58:53.775368Z"
    }
   },
   "outputs": [
    {
     "data": {
      "text/plain": [
       "Sx_Surgeon_shortened\n",
       "Prof. Dr. med. T. Doenst      348\n",
       "Other, less than 100 ops      333\n",
       "OA Dr. med. M. Diab           272\n",
       "PD Dr. med. M. Richter        260\n",
       "Ltd. OÄ Dr. med. G. Färber    163\n",
       "OA Dr. med. T. Sandhaus       152\n",
       "Name: count, dtype: int64"
      ]
     },
     "execution_count": 74,
     "metadata": {},
     "output_type": "execute_result"
    }
   ],
   "source": [
    "df_en['Sx_Surgeon_shortened'] = df.Sx_Surgeon\n",
    "df_en.loc[df_en[df_en.Sx_Surgeon.isin(df_en.Sx_Surgeon.value_counts()[df_en.Sx_Surgeon.value_counts()<100].index)].index, 'Sx_Surgeon_shortened'] = 'Other, less than 100 ops'\n",
    "\n",
    "df_en.Sx_Surgeon_shortened.value_counts()"
   ]
  },
  {
   "cell_type": "code",
   "execution_count": 80,
   "id": "0c713a8e-34cd-4b73-b3c4-ebfef2a29e23",
   "metadata": {
    "execution": {
     "iopub.execute_input": "2024-02-10T10:02:08.859000Z",
     "iopub.status.busy": "2024-02-10T10:02:08.858261Z",
     "iopub.status.idle": "2024-02-10T10:02:08.884446Z",
     "shell.execute_reply": "2024-02-10T10:02:08.883667Z",
     "shell.execute_reply.started": "2024-02-10T10:02:08.858947Z"
    }
   },
   "outputs": [],
   "source": [
    "df_en['Sx_Urgency_shortened'] = df_en.Sx_Urgency\n",
    "df_en['Sx_Urgency_shortened'].loc[df_en.Sx_Urgency_shortened==4] = 3"
   ]
  },
  {
   "cell_type": "code",
   "execution_count": 81,
   "id": "bf4dc088-ac44-4ba0-b1ee-44715c319bbd",
   "metadata": {
    "execution": {
     "iopub.execute_input": "2024-02-10T10:02:10.209168Z",
     "iopub.status.busy": "2024-02-10T10:02:10.208433Z",
     "iopub.status.idle": "2024-02-10T10:02:10.238354Z",
     "shell.execute_reply": "2024-02-10T10:02:10.237567Z",
     "shell.execute_reply.started": "2024-02-10T10:02:10.209117Z"
    }
   },
   "outputs": [],
   "source": [
    "\n",
    "columns = ['Age', 'BMI', 'Gender', 'log10_STS', 'NYHA_Heart_Fail_Class', 'Prosthesis_Anat_Aort_Valve', 'Sx_Cardiopulm_Bypass_t','Sx_Intraop_Stimul','Prosthesis_Anat_Size', 'Upsizing', 'Sx_Aort_Clamp_t', 'Sx_Date', 'Implanted_Earlier','Sx_Duration_Min', 'Reop_num_within_30_with_implant', 'Reop_num_within_30', 'REOP?', 'LQ_Mobility', 'LQ_Self_Care', 'LQ_Dayt_Activity', 'LQ_Pain', 'LQ_Fear', 'Endocard','Sx_Surgeon_shortened', 'Sx_Urgency_shortened']\n",
    "\n",
    "# Отбор нужных столбцов из df_en\n",
    "df_en_selected = df_en[columns]\n",
    "\n",
    "for i in df_reop_safety.columns:\n",
    "    if i not in df_en_selected.columns:\n",
    "        df_en_selected[i] = df_reop_safety[i]\n",
    "for i in df_svd_safety.columns:\n",
    "    if i not in df_en_selected.columns:\n",
    "        df_en_selected[i] = df_svd_safety[i]"
   ]
  },
  {
   "cell_type": "code",
   "execution_count": 82,
   "id": "ed429edb-289f-459c-bc72-83a8ab63628d",
   "metadata": {
    "execution": {
     "iopub.execute_input": "2024-02-10T10:02:13.454967Z",
     "iopub.status.busy": "2024-02-10T10:02:13.454239Z",
     "iopub.status.idle": "2024-02-10T10:02:13.483789Z",
     "shell.execute_reply": "2024-02-10T10:02:13.482987Z",
     "shell.execute_reply.started": "2024-02-10T10:02:13.454915Z"
    }
   },
   "outputs": [
    {
     "data": {
      "text/plain": [
       "Sx_Urgency_shortened\n",
       "1    1094\n",
       "2     334\n",
       "3     101\n",
       "Name: count, dtype: int64"
      ]
     },
     "execution_count": 82,
     "metadata": {},
     "output_type": "execute_result"
    }
   ],
   "source": [
    "df_en_selected.Sx_Urgency_shortened.value_counts()"
   ]
  },
  {
   "cell_type": "code",
   "execution_count": 83,
   "id": "db641eea-0ab7-428c-9459-ec2fa6c3214f",
   "metadata": {
    "execution": {
     "iopub.execute_input": "2024-02-10T10:02:15.822935Z",
     "iopub.status.busy": "2024-02-10T10:02:15.822185Z",
     "iopub.status.idle": "2024-02-10T10:02:15.862605Z",
     "shell.execute_reply": "2024-02-10T10:02:15.861800Z",
     "shell.execute_reply.started": "2024-02-10T10:02:15.822884Z"
    }
   },
   "outputs": [],
   "source": [
    "df_en_selected.to_csv('df_safety_surg_lq.tsv',sep='\\t')"
   ]
  }
 ],
 "metadata": {
  "kernelspec": {
   "display_name": "default",
   "language": "python",
   "name": "default"
  },
  "language_info": {
   "codemirror_mode": {
    "name": "ipython",
    "version": 3
   },
   "file_extension": ".py",
   "mimetype": "text/x-python",
   "name": "python",
   "nbconvert_exporter": "python",
   "pygments_lexer": "ipython3",
   "version": "3.9.13"
  }
 },
 "nbformat": 4,
 "nbformat_minor": 5
}
